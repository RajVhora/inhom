{
 "cells": [
  {
   "cell_type": "code",
   "execution_count": 11,
   "metadata": {},
   "outputs": [],
   "source": [
    "# Import important libraries\n",
    "\n",
    "import numpy as np\n",
    "import sympy as sp\n",
    "import scipy.integrate as integrate"
   ]
  },
  {
   "cell_type": "code",
   "execution_count": 12,
   "metadata": {},
   "outputs": [],
   "source": [
    "a1 = 1.5\n",
    "a2 = 1\n",
    "a3 = 0.5\n",
    "a = np.array([a1, a2, a3])\n",
    "\n",
    "E = 210\n",
    "nu = 0.3\n",
    "E_star = 210\n",
    "nu_star = 0.3\n",
    "\n",
    "eps11 = 0.001\n",
    "eps22 = 0.001\n",
    "eps33 = 0.001\n",
    "eps12 = 0\n",
    "eps13 = 0\n",
    "eps23 = 0\n",
    "eig_strain = np.array([[eps11,eps12,eps13],[eps12,eps22,eps23],[eps13,eps23,eps33]])\n",
    "\n",
    "sig11 = 0\n",
    "sig22 = 0\n",
    "sig33 = 0\n",
    "sig12 = 0\n",
    "sig13 = 0\n",
    "sig23 = 0\n",
    "app_stress = np.array([[sig11,sig12,sig13],[sig12,sig22,sig23],[sig13,sig23,sig33]])\n",
    "\n",
    "eps_11 = sig11/E_star - nu_star*(sig22+sig33)/E_star\n",
    "eps_22 = sig22/E_star - nu_star*(sig11+sig33)/E_star\n",
    "eps_33 = sig33/E_star - nu_star*(sig11+sig22)/E_star\n",
    "eps_12 = sig12*(1+nu_star)/E_star\n",
    "eps_13 = sig13*(1+nu_star)/E_star\n",
    "eps_23 = sig23*(1+nu_star)/E_star\n",
    "app_strain = np.array([[eps_11,eps_12,eps_13],[eps_12,eps_22,eps_23],[eps_13,eps_23,eps_33]])\n",
    "\n",
    "delta = np.identity(3)"
   ]
  },
  {
   "cell_type": "code",
   "execution_count": 13,
   "metadata": {},
   "outputs": [],
   "source": [
    "# Defining elliptic integrals and solving them. (page 85 of Mura's book, equation 11.36) lambda=0.. verified for lambda = 0\n",
    "def I_(x,a, lambda_):\n",
    "    #lambda_ = get_lambda(x,a)\n",
    "    def integrand(s):\n",
    "        return 1/np.sqrt((a[0]**2 + s)*(a[1]**2 + s)*(a[2]**2 + s))\n",
    "    inte = integrate.quad(integrand, lambda_, np.inf)[0]\n",
    "    return inte*np.pi*2*a[0]*a[1]*a[2]\n",
    "\n",
    "def Ii_(x,a, lambda_):\n",
    "    #lambda_ = get_lambda(x,a)\n",
    "    arr = np.zeros(3)\n",
    "    for i in range(3):\n",
    "        def integrand(s):\n",
    "            return (1/(np.sqrt((a[0]**2 + s)*(a[1]**2 + s)*(a[2]**2 + s))*(a[i]**2 + s)))\n",
    "        inte = integrate.quad(integrand, lambda_, np.inf)[0]\n",
    "        arr[i] = inte*np.pi*2*a[0]*a[1]*a[2]\n",
    "    return arr\n",
    "\n",
    "def Iij_(x,a, lambda_):\n",
    "    #lambda_ = get_lambda(x,a)\n",
    "    #print(\"lambda = \",lamb)\n",
    "    arr = np.zeros((3,3))\n",
    "    for i in range(3):\n",
    "        for j in range(3):\n",
    "            def integrand(s):\n",
    "                return (1/(np.sqrt((a[0]**2 + s)*(a[1]**2 + s)*(a[2]**2 + s))*(a[i]**2 + s)*(a[j]**2 + s)))\n",
    "            inte = integrate.quad(integrand, lambda_, np.inf)[0]\n",
    "            arr[i,j] = inte*np.pi*2*a[0]*a[1]*a[2]\n",
    "    return arr"
   ]
  },
  {
   "cell_type": "code",
   "execution_count": 14,
   "metadata": {},
   "outputs": [],
   "source": [
    "# Compute Sijkl (page 88 of Mura's book, equation 11.42)\n",
    "\n",
    "def get_Sijkl(x,a,I,Ii,Iij):\n",
    "    Sijkl = np.zeros((3,3,3,3))\n",
    "    for i in range(3):\n",
    "        for j in range(3):\n",
    "            for k in range(3):\n",
    "                for l in range(3):\n",
    "                    t1 = delta[i,j]*delta[k,l]*(2*nu*Ii[i] - Ii[k] + (a[i]**2)*Iij[k,i])\n",
    "                    t2 = (delta[i,k]*delta[j,l] + delta[i,l]*delta[j,k])*((a[i]**2)*Iij[i,j] - Ii[j] + (1-nu)*(Ii[k] + Ii[l]))\n",
    "                    Sijkl[i,j,k,l] = (t1+t2)/(8*np.pi*(1-nu))\n",
    "                    #print(\"S\",i+1,j+1,k+1,l+1,\" = \",Sijkl[i,j,k,l])\n",
    "    return Sijkl"
   ]
  },
  {
   "cell_type": "code",
   "execution_count": 15,
   "metadata": {},
   "outputs": [],
   "source": [
    "lambda_ = 0\n",
    "x = 0\n",
    "I = I_(x,a,lambda_)\n",
    "Ii = Ii_(x,a,lambda_)\n",
    "Iij = Iij_(x,a,lambda_)\n",
    "S = get_Sijkl(x,a,I,Ii,Iij)"
   ]
  },
  {
   "cell_type": "code",
   "execution_count": 16,
   "metadata": {},
   "outputs": [
    {
     "name": "stdout",
     "output_type": "stream",
     "text": [
      "[[[[ 0.27872081  0.          0.        ]\n",
      "   [ 0.          0.01868742  0.        ]\n",
      "   [ 0.          0.         -0.00713551]]\n",
      "\n",
      "  [[ 0.          0.16342878  0.        ]\n",
      "   [ 0.16342878  0.          0.        ]\n",
      "   [ 0.          0.          0.        ]]\n",
      "\n",
      "  [[ 0.          0.          0.29230146]\n",
      "   [ 0.          0.          0.        ]\n",
      "   [ 0.29230146  0.          0.        ]]]\n",
      "\n",
      "\n",
      " [[[ 0.          0.16342878  0.        ]\n",
      "   [ 0.16342878  0.          0.        ]\n",
      "   [ 0.          0.          0.        ]]\n",
      "\n",
      "  [[ 0.066196    0.          0.        ]\n",
      "   [ 0.          0.43261237  0.        ]\n",
      "   [ 0.          0.         -0.00266515]]\n",
      "\n",
      "  [[ 0.          0.          0.        ]\n",
      "   [ 0.          0.          0.30468991]\n",
      "   [ 0.          0.30468991  0.        ]]]\n",
      "\n",
      "\n",
      " [[[ 0.          0.          0.29230146]\n",
      "   [ 0.          0.          0.        ]\n",
      "   [ 0.29230146  0.          0.        ]]\n",
      "\n",
      "  [[ 0.          0.          0.        ]\n",
      "   [ 0.          0.          0.30468991]\n",
      "   [ 0.          0.30468991  0.        ]]\n",
      "\n",
      "  [[ 0.17296931  0.          0.        ]\n",
      "   [ 0.          0.12993109  0.        ]\n",
      "   [ 0.          0.          0.76782652]]]]\n"
     ]
    }
   ],
   "source": [
    "print(S)"
   ]
  },
  {
   "cell_type": "code",
   "execution_count": 17,
   "metadata": {},
   "outputs": [],
   "source": [
    "# Calculate meu\n",
    "meu = E/(2*(1+nu))\n",
    "meu_star = E_star/(2*(1+nu_star))\n",
    "\n",
    "# calculate K and K_star and t\n",
    "K = E/(3*(1-2*nu))\n",
    "K_star = E_star/(3*(1-2*nu_star))\n",
    "t = K_star/K"
   ]
  },
  {
   "cell_type": "code",
   "execution_count": 18,
   "metadata": {},
   "outputs": [
    {
     "name": "stdout",
     "output_type": "stream",
     "text": [
      "strain12 =  0.0\n",
      "strain13 =  0.0\n",
      "strain23 =  0.0\n"
     ]
    }
   ],
   "source": [
    "# Calculate shear strains\n",
    "strain11 = 0\n",
    "strain22 = 0\n",
    "strain33 = 0\n",
    "strain12 = (2*(meu-meu_star)*eps_12 + 2*meu_star*eps12)/(4*(meu_star-meu)*S[0,1,0,1] + 2*meu)\n",
    "strain13 = (2*(meu-meu_star)*eps_13 + 2*meu_star*eps13)/(4*(meu_star-meu)*S[0,2,0,2] + 2*meu)\n",
    "strain23 = (2*(meu-meu_star)*eps_23 + 2*meu_star*eps23)/(4*(meu_star-meu)*S[1,2,1,2] + 2*meu)\n",
    "print(\"strain12 = \",strain12)\n",
    "print(\"strain13 = \",strain13)\n",
    "print(\"strain23 = \",strain23)\n",
    "\n",
    "strains = np.array([[strain11,strain12,strain13],[strain12,strain22,strain23],[strain13,strain23,strain33]])\n"
   ]
  },
  {
   "cell_type": "code",
   "execution_count": 19,
   "metadata": {},
   "outputs": [
    {
     "name": "stdout",
     "output_type": "stream",
     "text": [
      "a =  [[-1.  0. -0.]\n",
      " [ 0. -1. -0.]\n",
      " [ 0.  0. -1.]]\n",
      "b =  [-0.001 -0.001 -0.001]\n",
      "strain11 =  0.001\n",
      "strain22 =  0.001\n",
      "strain33 =  0.001\n"
     ]
    }
   ],
   "source": [
    "# Formulate a system of equations to solve for strain11, strain22 and strain33\n",
    "\n",
    "a = np.zeros((3,3))\n",
    "b = np.zeros(3)\n",
    "\n",
    "a[0,0] = (1-t)*S[0,0,0,0] - 1\n",
    "a[0,1] = (1-t)*S[0,0,1,1]\n",
    "a[0,2] = (1-t)*S[0,0,2,2]\n",
    "a[1,0] = (1-t)*S[1,1,0,0]\n",
    "a[1,1] = (1-t)*S[1,1,1,1] - 1\n",
    "a[1,2] = (1-t)*S[1,1,2,2]\n",
    "a[2,0] = (1-t)*S[2,2,0,0]\n",
    "a[2,1] = (1-t)*S[2,2,1,1]\n",
    "a[2,2] = (1-t)*S[2,2,2,2] - 1\n",
    "\n",
    "t1 = (t-1)*eps_11 - t*eps11\n",
    "t2 = 0\n",
    "for m in range(3):\n",
    "    for n in range(3):\n",
    "        if m != n:\n",
    "            t2 += (1-t)*S[0,0,m,n]*strains[m,n]\n",
    "b[0] = t1 - t2\n",
    "\n",
    "t1 = (t-1)*eps_22 - t*eps22\n",
    "t2 = 0\n",
    "for n in range(3):\n",
    "    if m != n:\n",
    "        t2 += (1-t)*S[1,1,m,n]*strains[m,n]\n",
    "b[1] = t1 - t2\n",
    "\n",
    "t1 = (t-1)*eps_33 - t*eps33\n",
    "t2 = 0\n",
    "for m in range(3):\n",
    "    for n in range(3):\n",
    "        if m != n:\n",
    "            t2 += (1-t)*S[2,2,m,n]*strains[m,n]\n",
    "b[2] = t1 - t2\n",
    "\n",
    "print(\"a = \",a)\n",
    "print(\"b = \",b)\n",
    "\n",
    "x = np.linalg.solve(a,b)\n",
    "print(\"strain11 = \",x[0])\n",
    "print(\"strain22 = \",x[1])\n",
    "print(\"strain33 = \",x[2])"
   ]
  },
  {
   "cell_type": "code",
   "execution_count": 20,
   "metadata": {},
   "outputs": [
    {
     "name": "stdout",
     "output_type": "stream",
     "text": [
      "strains =  [[0.001 0.    0.   ]\n",
      " [0.    0.001 0.   ]\n",
      " [0.    0.    0.001]]\n"
     ]
    }
   ],
   "source": [
    "strain11 = x[0]\n",
    "strain22 = x[1]\n",
    "strain33 = x[2]\n",
    "strains = np.array([[strain11,strain12,strain13],[strain12,strain22,strain23],[strain13,strain23,strain33]])\n",
    "print(\"strains = \",strains)"
   ]
  },
  {
   "cell_type": "code",
   "execution_count": 21,
   "metadata": {},
   "outputs": [
    {
     "name": "stdout",
     "output_type": "stream",
     "text": [
      "total_sigma =  [[-0.25310979  0.          0.        ]\n",
      " [ 0.         -0.21985379  0.        ]\n",
      " [ 0.          0.         -0.12703642]]\n"
     ]
    }
   ],
   "source": [
    "# Stress inside the inclusion\n",
    "ld = 2*meu*nu/(1-2*nu)\n",
    "#hydrostatic term\n",
    "hterm = 0\n",
    "for k in range(3):\n",
    "    for m in range(3):\n",
    "        for n in range(3):\n",
    "            hterm += S[k,k,m,n]*strains[m,n]\n",
    "hterm = hterm + eps_11 + eps_22 + eps_33 - strain11 - strain22 - strain33\n",
    "\n",
    "suma = 0\n",
    "for m in range(3):\n",
    "    for n in range(3):\n",
    "        suma = suma + S[0,0,m,n]*strains[m,n]\n",
    "sig_11 = 2*meu*(eps_11 - strain11 + suma) + ld*hterm\n",
    "\n",
    "suma = 0\n",
    "for m in range(3):\n",
    "    for n in range(3):\n",
    "        suma = suma + S[1,1,m,n]*strains[m,n]\n",
    "sig_22 = 2*meu*(eps_22 - strain22 + suma) + ld*hterm\n",
    "\n",
    "suma = 0\n",
    "for m in range(3):\n",
    "    for n in range(3):\n",
    "        suma = suma + S[2,2,m,n]*strains[m,n]\n",
    "sig_33 = 2*meu*(eps_33 - strain33 + suma) + ld*hterm\n",
    "\n",
    "suma = 0\n",
    "for m in range(3):\n",
    "    for n in range(3):\n",
    "        suma = suma + S[0,1,m,n]*strains[m,n]\n",
    "sig_12 = 2*meu*(eps_12 - strain12 + suma)\n",
    "\n",
    "suma = 0\n",
    "for m in range(3):\n",
    "    for n in range(3):\n",
    "        suma = suma + S[0,2,m,n]*strains[m,n]\n",
    "sig_13 = 2*meu*(eps_13 - strain13 + suma)\n",
    "\n",
    "suma = 0\n",
    "for m in range(3):\n",
    "    for n in range(3):\n",
    "        suma = suma + S[1,2,m,n]*strains[m,n]\n",
    "sig_23 = 2*meu*(eps_23 - strain23 + suma)\n",
    "\n",
    "total_sigma = np.array([[sig_11,sig_12,sig_13],[sig_12,sig_22,sig_23],[sig_13,sig_23,sig_33]])\n",
    "print(\"total_sigma = \",total_sigma)\n"
   ]
  },
  {
   "cell_type": "code",
   "execution_count": null,
   "metadata": {},
   "outputs": [],
   "source": []
  }
 ],
 "metadata": {
  "kernelspec": {
   "display_name": "Python 3",
   "language": "python",
   "name": "python3"
  },
  "language_info": {
   "codemirror_mode": {
    "name": "ipython",
    "version": 3
   },
   "file_extension": ".py",
   "mimetype": "text/x-python",
   "name": "python",
   "nbconvert_exporter": "python",
   "pygments_lexer": "ipython3",
   "version": "3.10.6"
  },
  "orig_nbformat": 4
 },
 "nbformat": 4,
 "nbformat_minor": 2
}
