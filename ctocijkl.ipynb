{
 "cells": [
  {
   "cell_type": "code",
   "execution_count": 15,
   "metadata": {},
   "outputs": [],
   "source": [
    "import numpy as np"
   ]
  },
  {
   "cell_type": "code",
   "execution_count": 16,
   "metadata": {},
   "outputs": [
    {
     "name": "stdout",
     "output_type": "stream",
     "text": [
      "[[230.76923077  69.23076923  69.23076923   0.           0.\n",
      "    0.        ]\n",
      " [ 69.23076923 230.76923077  69.23076923   0.           0.\n",
      "    0.        ]\n",
      " [ 69.23076923  69.23076923 230.76923077   0.           0.\n",
      "    0.        ]\n",
      " [  0.           0.           0.          80.76923077   0.\n",
      "    0.        ]\n",
      " [  0.           0.           0.           0.          80.76923077\n",
      "    0.        ]\n",
      " [  0.           0.           0.           0.           0.\n",
      "   80.76923077]]\n"
     ]
    }
   ],
   "source": [
    "E = 210\n",
    "v = 0.3\n",
    "\n",
    "c11 = E/(1-v**2)\n",
    "c12 = v*E/(1-v**2)\n",
    "c44 = 0.5*(c11-c12)\n",
    "\n",
    "\n",
    "Cvoigt = np.zeros((6,6))\n",
    "# Input the material constants\n",
    "Cvoigt[0,0] = c11\n",
    "Cvoigt[0,1] = c12\n",
    "Cvoigt[0,2] = c12\n",
    "Cvoigt[0,3] = 0\n",
    "Cvoigt[0,4] = 0\n",
    "Cvoigt[0,5] = 0\n",
    "Cvoigt[1,1] = c11\n",
    "Cvoigt[1,2] = c12\n",
    "Cvoigt[1,3] = 0\n",
    "Cvoigt[1,4] = 0\n",
    "Cvoigt[1,5] = 0\n",
    "Cvoigt[2,2] = c11\n",
    "Cvoigt[2,3] = 0\n",
    "Cvoigt[2,4] = 0\n",
    "Cvoigt[2,5] = 0\n",
    "Cvoigt[3,3] = c44\n",
    "Cvoigt[3,4] = 0\n",
    "Cvoigt[3,5] = 0\n",
    "Cvoigt[4,4] = c44\n",
    "Cvoigt[4,5] = 0\n",
    "Cvoigt[5,5] = c44\n",
    "\n",
    "\n",
    "# Symmetrize the matrix\n",
    "for i in range(6):\n",
    "    for j in range(i,6):\n",
    "        Cvoigt[j,i] = Cvoigt[i,j]\n",
    "\n",
    "# Print the matrix\n",
    "print(Cvoigt)"
   ]
  },
  {
   "cell_type": "code",
   "execution_count": 17,
   "metadata": {},
   "outputs": [],
   "source": [
    "def mapping(i,j):\n",
    "    if i==0 and j==0:\n",
    "        return 0\n",
    "    elif i==1 and j==1:\n",
    "        return 1\n",
    "    elif i==2 and j==2:\n",
    "        return 2\n",
    "    elif (i==1 and j==2) or (i==2 and j==1):\n",
    "        return 3\n",
    "    elif (i==0 and j==2) or (i==2 and j==0):\n",
    "        return 4\n",
    "    elif (i==0 and j==1) or (i==1 and j==0):\n",
    "        return 5"
   ]
  },
  {
   "cell_type": "code",
   "execution_count": 18,
   "metadata": {},
   "outputs": [
    {
     "name": "stdout",
     "output_type": "stream",
     "text": [
      "[[[[230.76923077   0.           0.        ]\n",
      "   [  0.          69.23076923   0.        ]\n",
      "   [  0.           0.          69.23076923]]\n",
      "\n",
      "  [[  0.          80.76923077   0.        ]\n",
      "   [ 80.76923077   0.           0.        ]\n",
      "   [  0.           0.           0.        ]]\n",
      "\n",
      "  [[  0.           0.          80.76923077]\n",
      "   [  0.           0.           0.        ]\n",
      "   [ 80.76923077   0.           0.        ]]]\n",
      "\n",
      "\n",
      " [[[  0.          80.76923077   0.        ]\n",
      "   [ 80.76923077   0.           0.        ]\n",
      "   [  0.           0.           0.        ]]\n",
      "\n",
      "  [[ 69.23076923   0.           0.        ]\n",
      "   [  0.         230.76923077   0.        ]\n",
      "   [  0.           0.          69.23076923]]\n",
      "\n",
      "  [[  0.           0.           0.        ]\n",
      "   [  0.           0.          80.76923077]\n",
      "   [  0.          80.76923077   0.        ]]]\n",
      "\n",
      "\n",
      " [[[  0.           0.          80.76923077]\n",
      "   [  0.           0.           0.        ]\n",
      "   [ 80.76923077   0.           0.        ]]\n",
      "\n",
      "  [[  0.           0.           0.        ]\n",
      "   [  0.           0.          80.76923077]\n",
      "   [  0.          80.76923077   0.        ]]\n",
      "\n",
      "  [[ 69.23076923   0.           0.        ]\n",
      "   [  0.          69.23076923   0.        ]\n",
      "   [  0.           0.         230.76923077]]]]\n"
     ]
    }
   ],
   "source": [
    "# Convert to Voigt notation\n",
    "C = np.zeros((3,3,3,3))\n",
    "\n",
    "for i in range(3):\n",
    "    for j in range(3):\n",
    "        for k in range(3):\n",
    "            for l in range(3):\n",
    "                ind1 = mapping(i,j)\n",
    "                ind2 = mapping(k,l)\n",
    "                C[i,j,k,l] = Cvoigt[ind1,ind2]\n",
    "\n",
    "# Print the matrix\n",
    "print(C)"
   ]
  },
  {
   "cell_type": "code",
   "execution_count": null,
   "metadata": {},
   "outputs": [],
   "source": []
  }
 ],
 "metadata": {
  "kernelspec": {
   "display_name": "Python 3",
   "language": "python",
   "name": "python3"
  },
  "language_info": {
   "codemirror_mode": {
    "name": "ipython",
    "version": 3
   },
   "file_extension": ".py",
   "mimetype": "text/x-python",
   "name": "python",
   "nbconvert_exporter": "python",
   "pygments_lexer": "ipython3",
   "version": "3.10.6"
  },
  "orig_nbformat": 4
 },
 "nbformat": 4,
 "nbformat_minor": 2
}
